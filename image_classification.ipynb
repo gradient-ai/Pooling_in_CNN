{
 "cells": [
  {
   "cell_type": "markdown",
   "id": "ef87c1ad-161e-45e4-9497-3b09d351f39b",
   "metadata": {},
   "source": [
    "# Small Image Classification Using Convolutional Neural Network (CNN)\n"
   ]
  },
  {
   "cell_type": "markdown",
   "id": "39182901-1e9c-4fe5-be00-d1aaeca55d58",
   "metadata": {},
   "source": [
    "![convert notebook to web app](https://production-media.paperswithcode.com/datasets/4fdf2b82-2bc3-4f97-ba51-400322b228b1.png)\n"
   ]
  },
  {
   "cell_type": "code",
   "execution_count": 2,
   "id": "66c2ce9f-fd99-48a0-936c-fafa27b7d76c",
   "metadata": {
    "execution": {
     "iopub.execute_input": "2023-12-04T11:07:27.081619Z",
     "iopub.status.busy": "2023-12-04T11:07:27.081306Z",
     "iopub.status.idle": "2023-12-04T11:07:29.934002Z",
     "shell.execute_reply": "2023-12-04T11:07:29.933244Z",
     "shell.execute_reply.started": "2023-12-04T11:07:27.081595Z"
    }
   },
   "outputs": [],
   "source": [
    "#import the necessary libraries\n",
    "import tensorflow as tf\n",
    "from tensorflow.keras import datasets, layers, models\n",
    "import matplotlib.pyplot as plt\n",
    "import numpy as np"
   ]
  },
  {
   "cell_type": "code",
   "execution_count": 3,
   "id": "34c45e26-03af-4ecb-898d-f0286ea4d34e",
   "metadata": {
    "execution": {
     "iopub.execute_input": "2023-12-04T11:08:21.729074Z",
     "iopub.status.busy": "2023-12-04T11:08:21.728373Z",
     "iopub.status.idle": "2023-12-04T11:08:25.996230Z",
     "shell.execute_reply": "2023-12-04T11:08:25.995637Z",
     "shell.execute_reply.started": "2023-12-04T11:08:21.729034Z"
    }
   },
   "outputs": [
    {
     "name": "stdout",
     "output_type": "stream",
     "text": [
      "Downloading data from https://www.cs.toronto.edu/~kriz/cifar-10-python.tar.gz\n",
      "170498071/170498071 [==============================] - 2s 0us/step\n"
     ]
    },
    {
     "data": {
      "text/plain": [
       "((50000, 32, 32, 3), (50000, 1), (10000, 32, 32, 3), (10000, 1))"
      ]
     },
     "execution_count": 3,
     "metadata": {},
     "output_type": "execute_result"
    }
   ],
   "source": [
    "#load the dataset and check the shape of the dataset\n",
    "(X_train, y_train), (X_test,y_test) = datasets.cifar10.load_data()\n",
    "X_train.shape, y_train.shape, X_test.shape, y_test.shape"
   ]
  },
  {
   "cell_type": "code",
   "execution_count": 4,
   "id": "5beaf532-b09d-43c3-93f5-3a34726f1f56",
   "metadata": {
    "execution": {
     "iopub.execute_input": "2023-12-04T11:09:08.499338Z",
     "iopub.status.busy": "2023-12-04T11:09:08.499075Z",
     "iopub.status.idle": "2023-12-04T11:09:08.503065Z",
     "shell.execute_reply": "2023-12-04T11:09:08.502571Z",
     "shell.execute_reply.started": "2023-12-04T11:09:08.499319Z"
    }
   },
   "outputs": [
    {
     "data": {
      "text/plain": [
       "numpy.ndarray"
      ]
     },
     "execution_count": 4,
     "metadata": {},
     "output_type": "execute_result"
    }
   ],
   "source": [
    "#check the type of the dataset\n",
    "type(X_train)"
   ]
  },
  {
   "cell_type": "code",
   "execution_count": 5,
   "id": "8b25f00f-4ec8-4825-9f03-15bbbf3ea977",
   "metadata": {
    "execution": {
     "iopub.execute_input": "2023-12-04T11:09:19.712373Z",
     "iopub.status.busy": "2023-12-04T11:09:19.712129Z",
     "iopub.status.idle": "2023-12-04T11:09:19.719303Z",
     "shell.execute_reply": "2023-12-04T11:09:19.718570Z",
     "shell.execute_reply.started": "2023-12-04T11:09:19.712355Z"
    }
   },
   "outputs": [
    {
     "data": {
      "text/plain": [
       "array([[[[ 59,  62,  63],\n",
       "         [ 43,  46,  45],\n",
       "         [ 50,  48,  43],\n",
       "         ...,\n",
       "         [158, 132, 108],\n",
       "         [152, 125, 102],\n",
       "         [148, 124, 103]],\n",
       "\n",
       "        [[ 16,  20,  20],\n",
       "         [  0,   0,   0],\n",
       "         [ 18,   8,   0],\n",
       "         ...,\n",
       "         [123,  88,  55],\n",
       "         [119,  83,  50],\n",
       "         [122,  87,  57]],\n",
       "\n",
       "        [[ 25,  24,  21],\n",
       "         [ 16,   7,   0],\n",
       "         [ 49,  27,   8],\n",
       "         ...,\n",
       "         [118,  84,  50],\n",
       "         [120,  84,  50],\n",
       "         [109,  73,  42]],\n",
       "\n",
       "        ...,\n",
       "\n",
       "        [[208, 170,  96],\n",
       "         [201, 153,  34],\n",
       "         [198, 161,  26],\n",
       "         ...,\n",
       "         [160, 133,  70],\n",
       "         [ 56,  31,   7],\n",
       "         [ 53,  34,  20]],\n",
       "\n",
       "        [[180, 139,  96],\n",
       "         [173, 123,  42],\n",
       "         [186, 144,  30],\n",
       "         ...,\n",
       "         [184, 148,  94],\n",
       "         [ 97,  62,  34],\n",
       "         [ 83,  53,  34]],\n",
       "\n",
       "        [[177, 144, 116],\n",
       "         [168, 129,  94],\n",
       "         [179, 142,  87],\n",
       "         ...,\n",
       "         [216, 184, 140],\n",
       "         [151, 118,  84],\n",
       "         [123,  92,  72]]],\n",
       "\n",
       "\n",
       "       [[[154, 177, 187],\n",
       "         [126, 137, 136],\n",
       "         [105, 104,  95],\n",
       "         ...,\n",
       "         [ 91,  95,  71],\n",
       "         [ 87,  90,  71],\n",
       "         [ 79,  81,  70]],\n",
       "\n",
       "        [[140, 160, 169],\n",
       "         [145, 153, 154],\n",
       "         [125, 125, 118],\n",
       "         ...,\n",
       "         [ 96,  99,  78],\n",
       "         [ 77,  80,  62],\n",
       "         [ 71,  73,  61]],\n",
       "\n",
       "        [[140, 155, 164],\n",
       "         [139, 146, 149],\n",
       "         [115, 115, 112],\n",
       "         ...,\n",
       "         [ 79,  82,  64],\n",
       "         [ 68,  70,  55],\n",
       "         [ 67,  69,  55]],\n",
       "\n",
       "        ...,\n",
       "\n",
       "        [[175, 167, 166],\n",
       "         [156, 154, 160],\n",
       "         [154, 160, 170],\n",
       "         ...,\n",
       "         [ 42,  34,  36],\n",
       "         [ 61,  53,  57],\n",
       "         [ 93,  83,  91]],\n",
       "\n",
       "        [[165, 154, 128],\n",
       "         [156, 152, 130],\n",
       "         [159, 161, 142],\n",
       "         ...,\n",
       "         [103,  93,  96],\n",
       "         [123, 114, 120],\n",
       "         [131, 121, 131]],\n",
       "\n",
       "        [[163, 148, 120],\n",
       "         [158, 148, 122],\n",
       "         [163, 156, 133],\n",
       "         ...,\n",
       "         [143, 133, 139],\n",
       "         [143, 134, 142],\n",
       "         [143, 133, 144]]],\n",
       "\n",
       "\n",
       "       [[[255, 255, 255],\n",
       "         [253, 253, 253],\n",
       "         [253, 253, 253],\n",
       "         ...,\n",
       "         [253, 253, 253],\n",
       "         [253, 253, 253],\n",
       "         [253, 253, 253]],\n",
       "\n",
       "        [[255, 255, 255],\n",
       "         [255, 255, 255],\n",
       "         [255, 255, 255],\n",
       "         ...,\n",
       "         [255, 255, 255],\n",
       "         [255, 255, 255],\n",
       "         [255, 255, 255]],\n",
       "\n",
       "        [[255, 255, 255],\n",
       "         [254, 254, 254],\n",
       "         [254, 254, 254],\n",
       "         ...,\n",
       "         [254, 254, 254],\n",
       "         [254, 254, 254],\n",
       "         [254, 254, 254]],\n",
       "\n",
       "        ...,\n",
       "\n",
       "        [[113, 120, 112],\n",
       "         [111, 118, 111],\n",
       "         [105, 112, 106],\n",
       "         ...,\n",
       "         [ 72,  81,  80],\n",
       "         [ 72,  80,  79],\n",
       "         [ 72,  80,  79]],\n",
       "\n",
       "        [[111, 118, 110],\n",
       "         [104, 111, 104],\n",
       "         [ 99, 106,  98],\n",
       "         ...,\n",
       "         [ 68,  75,  73],\n",
       "         [ 70,  76,  75],\n",
       "         [ 78,  84,  82]],\n",
       "\n",
       "        [[106, 113, 105],\n",
       "         [ 99, 106,  98],\n",
       "         [ 95, 102,  94],\n",
       "         ...,\n",
       "         [ 78,  85,  83],\n",
       "         [ 79,  85,  83],\n",
       "         [ 80,  86,  84]]],\n",
       "\n",
       "\n",
       "       [[[ 28,  25,  10],\n",
       "         [ 37,  34,  19],\n",
       "         [ 38,  35,  20],\n",
       "         ...,\n",
       "         [ 76,  67,  39],\n",
       "         [ 81,  72,  43],\n",
       "         [ 85,  76,  47]],\n",
       "\n",
       "        [[ 33,  28,  13],\n",
       "         [ 34,  30,  14],\n",
       "         [ 32,  27,  12],\n",
       "         ...,\n",
       "         [ 95,  82,  55],\n",
       "         [ 96,  82,  56],\n",
       "         [ 85,  72,  45]],\n",
       "\n",
       "        [[ 39,  32,  15],\n",
       "         [ 40,  33,  17],\n",
       "         [ 57,  50,  33],\n",
       "         ...,\n",
       "         [ 93,  76,  52],\n",
       "         [107,  89,  66],\n",
       "         [ 95,  77,  54]],\n",
       "\n",
       "        ...,\n",
       "\n",
       "        [[ 83,  73,  52],\n",
       "         [ 87,  77,  56],\n",
       "         [ 84,  74,  52],\n",
       "         ...,\n",
       "         [ 99,  93,  70],\n",
       "         [ 90,  84,  61],\n",
       "         [ 81,  75,  52]],\n",
       "\n",
       "        [[ 88,  72,  51],\n",
       "         [ 90,  74,  52],\n",
       "         [ 93,  77,  56],\n",
       "         ...,\n",
       "         [ 80,  74,  53],\n",
       "         [ 76,  70,  49],\n",
       "         [ 82,  76,  55]],\n",
       "\n",
       "        [[ 97,  78,  56],\n",
       "         [ 94,  75,  53],\n",
       "         [ 93,  75,  53],\n",
       "         ...,\n",
       "         [ 54,  47,  28],\n",
       "         [ 63,  56,  37],\n",
       "         [ 72,  65,  46]]],\n",
       "\n",
       "\n",
       "       [[[170, 180, 198],\n",
       "         [168, 178, 196],\n",
       "         [177, 185, 203],\n",
       "         ...,\n",
       "         [162, 179, 215],\n",
       "         [158, 178, 214],\n",
       "         [157, 177, 212]],\n",
       "\n",
       "        [[168, 181, 198],\n",
       "         [172, 185, 201],\n",
       "         [171, 183, 200],\n",
       "         ...,\n",
       "         [159, 177, 212],\n",
       "         [156, 176, 211],\n",
       "         [154, 174, 209]],\n",
       "\n",
       "        [[154, 170, 186],\n",
       "         [149, 165, 181],\n",
       "         [129, 144, 162],\n",
       "         ...,\n",
       "         [161, 178, 214],\n",
       "         [157, 177, 212],\n",
       "         [154, 174, 209]],\n",
       "\n",
       "        ...,\n",
       "\n",
       "        [[ 74,  84,  80],\n",
       "         [ 76,  85,  81],\n",
       "         [ 78,  85,  82],\n",
       "         ...,\n",
       "         [ 71,  75,  78],\n",
       "         [ 68,  72,  75],\n",
       "         [ 61,  65,  68]],\n",
       "\n",
       "        [[ 68,  76,  77],\n",
       "         [ 69,  77,  78],\n",
       "         [ 72,  79,  78],\n",
       "         ...,\n",
       "         [ 76,  80,  83],\n",
       "         [ 71,  75,  78],\n",
       "         [ 71,  75,  78]],\n",
       "\n",
       "        [[ 67,  75,  78],\n",
       "         [ 68,  76,  79],\n",
       "         [ 69,  75,  76],\n",
       "         ...,\n",
       "         [ 75,  79,  82],\n",
       "         [ 71,  75,  78],\n",
       "         [ 73,  77,  80]]]], dtype=uint8)"
      ]
     },
     "execution_count": 5,
     "metadata": {},
     "output_type": "execute_result"
    }
   ],
   "source": [
    "X_train[:5]"
   ]
  },
  {
   "cell_type": "code",
   "execution_count": 6,
   "id": "8bd420ce-0998-4e91-a764-b76761de3e9a",
   "metadata": {
    "execution": {
     "iopub.execute_input": "2023-12-04T11:09:34.695356Z",
     "iopub.status.busy": "2023-12-04T11:09:34.695093Z",
     "iopub.status.idle": "2023-12-04T11:09:34.700045Z",
     "shell.execute_reply": "2023-12-04T11:09:34.699291Z",
     "shell.execute_reply.started": "2023-12-04T11:09:34.695333Z"
    }
   },
   "outputs": [
    {
     "data": {
      "text/plain": [
       "array([[6],\n",
       "       [9],\n",
       "       [9],\n",
       "       [4],\n",
       "       [1]], dtype=uint8)"
      ]
     },
     "execution_count": 6,
     "metadata": {},
     "output_type": "execute_result"
    }
   ],
   "source": [
    "y_train[:5]"
   ]
  },
  {
   "cell_type": "code",
   "execution_count": 7,
   "id": "c1732887-c0e8-42bf-aaa1-fe526ef9183f",
   "metadata": {
    "execution": {
     "iopub.execute_input": "2023-12-04T11:11:11.027461Z",
     "iopub.status.busy": "2023-12-04T11:11:11.027151Z",
     "iopub.status.idle": "2023-12-04T11:11:11.033176Z",
     "shell.execute_reply": "2023-12-04T11:11:11.032113Z",
     "shell.execute_reply.started": "2023-12-04T11:11:11.027440Z"
    }
   },
   "outputs": [
    {
     "data": {
      "text/plain": [
       "array([6, 9, 9, 4, 1], dtype=uint8)"
      ]
     },
     "execution_count": 7,
     "metadata": {},
     "output_type": "execute_result"
    }
   ],
   "source": [
    "#convert the 2-D array to 1-D array\n",
    "y_train = y_train.reshape(-1,)\n",
    "y_train[:5]"
   ]
  },
  {
   "cell_type": "code",
   "execution_count": 8,
   "id": "e2063ad7-9401-4acd-9247-726bf5816027",
   "metadata": {
    "execution": {
     "iopub.execute_input": "2023-12-04T11:11:45.263645Z",
     "iopub.status.busy": "2023-12-04T11:11:45.263378Z",
     "iopub.status.idle": "2023-12-04T11:11:45.268193Z",
     "shell.execute_reply": "2023-12-04T11:11:45.267549Z",
     "shell.execute_reply.started": "2023-12-04T11:11:45.263626Z"
    }
   },
   "outputs": [
    {
     "data": {
      "text/plain": [
       "array([3, 8, 8, 0, 6], dtype=uint8)"
      ]
     },
     "execution_count": 8,
     "metadata": {},
     "output_type": "execute_result"
    }
   ],
   "source": [
    "#convert the 2-D array to 1-D array\n",
    "y_test = y_test.reshape(-1,)\n",
    "y_test[:5]"
   ]
  },
  {
   "cell_type": "code",
   "execution_count": 9,
   "id": "732a821e-b6e4-401e-8ff3-9683e7538588",
   "metadata": {
    "execution": {
     "iopub.execute_input": "2023-12-04T11:12:21.105661Z",
     "iopub.status.busy": "2023-12-04T11:12:21.105007Z",
     "iopub.status.idle": "2023-12-04T11:12:21.108312Z",
     "shell.execute_reply": "2023-12-04T11:12:21.107857Z",
     "shell.execute_reply.started": "2023-12-04T11:12:21.105636Z"
    }
   },
   "outputs": [],
   "source": [
    "#different categories present in the dataset\n",
    "classes = [\"airplane\",\"automobile\",\"bird\",\"cat\",\"deer\",\"dog\",\"frog\",\"horse\",\"ship\",\"truck\"]"
   ]
  },
  {
   "cell_type": "code",
   "execution_count": 13,
   "id": "03d82134-b4ce-4015-b676-17dbab462299",
   "metadata": {
    "execution": {
     "iopub.execute_input": "2023-12-04T11:15:58.211904Z",
     "iopub.status.busy": "2023-12-04T11:15:58.210997Z",
     "iopub.status.idle": "2023-12-04T11:15:58.216702Z",
     "shell.execute_reply": "2023-12-04T11:15:58.215943Z",
     "shell.execute_reply.started": "2023-12-04T11:15:58.211852Z"
    }
   },
   "outputs": [],
   "source": [
    "#function to plot the image: function takes in the dataset and the indices of the image that needs to plot\n",
    "def image_show(X, y, index):\n",
    "    \"\"\"\n",
    "    takes in the images indices and the plots the image along with the label\n",
    "    \"\"\" \n",
    "    plt.figure(figsize = (15,2))\n",
    "    plt.imshow(X[index])\n",
    "    plt.xlabel(classes[y[index]])"
   ]
  },
  {
   "cell_type": "code",
   "execution_count": 14,
   "id": "2d455496-0411-42f3-af72-4ee72d650efe",
   "metadata": {
    "execution": {
     "iopub.execute_input": "2023-12-04T11:16:00.571625Z",
     "iopub.status.busy": "2023-12-04T11:16:00.571022Z",
     "iopub.status.idle": "2023-12-04T11:16:00.637238Z",
     "shell.execute_reply": "2023-12-04T11:16:00.636636Z",
     "shell.execute_reply.started": "2023-12-04T11:16:00.571602Z"
    }
   },
   "outputs": [
    {
     "data": {
      "image/png": "[encoded data removed]",
      "text/plain": [
       "<Figure size 1500x200 with 1 Axes>"
      ]
     },
     "metadata": {},
     "output_type": "display_data"
    }
   ],
   "source": [
    "image_show(X_train, y_train, 0)"
   ]
  },
  {
   "cell_type": "code",
   "execution_count": 15,
   "id": "9c6b72ef-6836-412f-994e-7b616b9e9cfa",
   "metadata": {
    "execution": {
     "iopub.execute_input": "2023-12-04T11:16:14.729046Z",
     "iopub.status.busy": "2023-12-04T11:16:14.728421Z",
     "iopub.status.idle": "2023-12-04T11:16:14.806843Z",
     "shell.execute_reply": "2023-12-04T11:16:14.806130Z",
     "shell.execute_reply.started": "2023-12-04T11:16:14.729023Z"
    }
   },
   "outputs": [
    {
     "data": {
      "image/png": "[encoded data removed]",
      "text/plain": [
       "<Figure size 1500x200 with 1 Axes>"
      ]
     },
     "metadata": {},
     "output_type": "display_data"
    }
   ],
   "source": [
    "image_show(X_train, y_train, 10)"
   ]
  },
  {
   "cell_type": "code",
   "execution_count": 18,
   "id": "bc2de443-12eb-400e-a07e-e86b32972a34",
   "metadata": {
    "execution": {
     "iopub.execute_input": "2023-12-04T11:18:24.579885Z",
     "iopub.status.busy": "2023-12-04T11:18:24.579502Z",
     "iopub.status.idle": "2023-12-04T11:18:25.147656Z",
     "shell.execute_reply": "2023-12-04T11:18:25.146872Z",
     "shell.execute_reply.started": "2023-12-04T11:18:24.579853Z"
    }
   },
   "outputs": [],
   "source": [
    "#Normalize the image data so the number reduces to 0 to 1, divide it by 255 as the image used here is in RGB\n",
    "X_train = X_train / 255.0\n",
    "X_test = X_test / 255.0"
   ]
  },
  {
   "cell_type": "code",
   "execution_count": 23,
   "id": "24ca979c-855f-40a9-83c9-eb277bd19433",
   "metadata": {
    "execution": {
     "iopub.execute_input": "2023-12-04T11:23:36.099276Z",
     "iopub.status.busy": "2023-12-04T11:23:36.098713Z",
     "iopub.status.idle": "2023-12-04T11:23:36.151038Z",
     "shell.execute_reply": "2023-12-04T11:23:36.150490Z",
     "shell.execute_reply.started": "2023-12-04T11:23:36.099249Z"
    }
   },
   "outputs": [],
   "source": [
    "#biuld a CNN to train in the image dataset here we are using Max Pool\n",
    "model = models.Sequential([\n",
    "    layers.Conv2D(filters=32, kernel_size=(3, 3), activation='relu', input_shape=(32, 32, 3)),\n",
    "    layers.MaxPooling2D((2, 2)),\n",
    "    \n",
    "    layers.Conv2D(filters=64, kernel_size=(3, 3), activation='relu'),\n",
    "    layers.MaxPooling2D((2, 2)),\n",
    "    \n",
    "    layers.Flatten(),\n",
    "    layers.Dense(64, activation='relu'),\n",
    "    layers.Dense(10, activation='softmax')\n",
    "])"
   ]
  },
  {
   "cell_type": "code",
   "execution_count": 24,
   "id": "3a743a73-75ea-4e47-b156-1757e307a58f",
   "metadata": {
    "execution": {
     "iopub.execute_input": "2023-12-04T11:23:40.054983Z",
     "iopub.status.busy": "2023-12-04T11:23:40.054199Z",
     "iopub.status.idle": "2023-12-04T11:23:40.067809Z",
     "shell.execute_reply": "2023-12-04T11:23:40.067308Z",
     "shell.execute_reply.started": "2023-12-04T11:23:40.054953Z"
    }
   },
   "outputs": [
    {
     "name": "stdout",
     "output_type": "stream",
     "text": [
      "Model: \"sequential_1\"\n",
      "_________________________________________________________________\n",
      " Layer (type)                Output Shape              Param #   \n",
      "=================================================================\n",
      " conv2d_2 (Conv2D)           (None, 30, 30, 32)        896       \n",
      "                                                                 \n",
      " max_pooling2d_2 (MaxPooling  (None, 15, 15, 32)       0         \n",
      " 2D)                                                             \n",
      "                                                                 \n",
      " conv2d_3 (Conv2D)           (None, 13, 13, 64)        18496     \n",
      "                                                                 \n",
      " max_pooling2d_3 (MaxPooling  (None, 6, 6, 64)         0         \n",
      " 2D)                                                             \n",
      "                                                                 \n",
      " flatten_1 (Flatten)         (None, 2304)              0         \n",
      "                                                                 \n",
      " dense_2 (Dense)             (None, 64)                147520    \n",
      "                                                                 \n",
      " dense_3 (Dense)             (None, 10)                650       \n",
      "                                                                 \n",
      "=================================================================\n",
      "Total params: 167,562\n",
      "Trainable params: 167,562\n",
      "Non-trainable params: 0\n",
      "_________________________________________________________________\n"
     ]
    }
   ],
   "source": [
    "#visualize the cnn architecture\n",
    "model.summary()\n"
   ]
  },
  {
   "cell_type": "code",
   "execution_count": 25,
   "id": "114dc4c0-0953-421a-abfb-bd213441ff50",
   "metadata": {
    "execution": {
     "iopub.execute_input": "2023-12-04T11:23:57.638813Z",
     "iopub.status.busy": "2023-12-04T11:23:57.638302Z",
     "iopub.status.idle": "2023-12-04T11:23:57.656484Z",
     "shell.execute_reply": "2023-12-04T11:23:57.655763Z",
     "shell.execute_reply.started": "2023-12-04T11:23:57.638786Z"
    }
   },
   "outputs": [],
   "source": [
    "model.compile(optimizer='adam',\n",
    "              loss='sparse_categorical_crossentropy',\n",
    "              metrics=['accuracy'])"
   ]
  },
  {
   "cell_type": "code",
   "execution_count": 26,
   "id": "937987ee-50c4-41a9-964c-c8ce9179575c",
   "metadata": {
    "execution": {
     "iopub.execute_input": "2023-12-04T11:24:46.676233Z",
     "iopub.status.busy": "2023-12-04T11:24:46.675583Z",
     "iopub.status.idle": "2023-12-04T11:25:42.352723Z",
     "shell.execute_reply": "2023-12-04T11:25:42.351848Z",
     "shell.execute_reply.started": "2023-12-04T11:24:46.676209Z"
    }
   },
   "outputs": [
    {
     "name": "stdout",
     "output_type": "stream",
     "text": [
      "Epoch 1/10\n",
      "1563/1563 [==============================] - 10s 3ms/step - loss: 1.4749 - accuracy: 0.4698\n",
      "Epoch 2/10\n",
      "1563/1563 [==============================] - 5s 3ms/step - loss: 1.1202 - accuracy: 0.6067\n",
      "Epoch 3/10\n",
      "1563/1563 [==============================] - 5s 3ms/step - loss: 0.9972 - accuracy: 0.6531\n",
      "Epoch 4/10\n",
      "1563/1563 [==============================] - 5s 3ms/step - loss: 0.9091 - accuracy: 0.6831\n",
      "Epoch 5/10\n",
      "1563/1563 [==============================] - 5s 3ms/step - loss: 0.8393 - accuracy: 0.7080\n",
      "Epoch 6/10\n",
      "1563/1563 [==============================] - 5s 3ms/step - loss: 0.7763 - accuracy: 0.7299\n",
      "Epoch 7/10\n",
      "1563/1563 [==============================] - 5s 3ms/step - loss: 0.7243 - accuracy: 0.7471\n",
      "Epoch 8/10\n",
      "1563/1563 [==============================] - 5s 3ms/step - loss: 0.6801 - accuracy: 0.7634\n",
      "Epoch 9/10\n",
      "1563/1563 [==============================] - 5s 3ms/step - loss: 0.6391 - accuracy: 0.7758\n",
      "Epoch 10/10\n",
      "1563/1563 [==============================] - 5s 3ms/step - loss: 0.6048 - accuracy: 0.7872\n"
     ]
    },
    {
     "data": {
      "text/plain": [
       "<keras.callbacks.History at 0x7ffb09e9abb0>"
      ]
     },
     "execution_count": 26,
     "metadata": {},
     "output_type": "execute_result"
    }
   ],
   "source": [
    "#train the CNN using the training data\n",
    "model.fit(X_train, y_train, epochs=10)"
   ]
  },
  {
   "cell_type": "markdown",
   "id": "e323e9ea-1df0-430a-bebd-a4733ab7009d",
   "metadata": {},
   "source": [
    "As we can at the end of 10th Epoch accuracy is around 78%"
   ]
  },
  {
   "cell_type": "code",
   "execution_count": 27,
   "id": "0ab6cd51-15e6-480f-82e4-7dcf0b2ebe0c",
   "metadata": {
    "execution": {
     "iopub.execute_input": "2023-12-04T11:27:33.842551Z",
     "iopub.status.busy": "2023-12-04T11:27:33.841843Z",
     "iopub.status.idle": "2023-12-04T11:27:34.978020Z",
     "shell.execute_reply": "2023-12-04T11:27:34.977422Z",
     "shell.execute_reply.started": "2023-12-04T11:27:33.842527Z"
    }
   },
   "outputs": [
    {
     "name": "stdout",
     "output_type": "stream",
     "text": [
      "313/313 [==============================] - 1s 2ms/step - loss: 0.9071 - accuracy: 0.7040\n"
     ]
    },
    {
     "data": {
      "text/plain": [
       "[0.9070912003517151, 0.7039999961853027]"
      ]
     },
     "execution_count": 27,
     "metadata": {},
     "output_type": "execute_result"
    }
   ],
   "source": [
    "model.evaluate(X_test,y_test)\n"
   ]
  },
  {
   "cell_type": "code",
   "execution_count": 28,
   "id": "faef84fb-acb3-4a25-a994-fd739982da6d",
   "metadata": {
    "execution": {
     "iopub.execute_input": "2023-12-04T11:27:49.709338Z",
     "iopub.status.busy": "2023-12-04T11:27:49.709079Z",
     "iopub.status.idle": "2023-12-04T11:27:50.569724Z",
     "shell.execute_reply": "2023-12-04T11:27:50.569046Z",
     "shell.execute_reply.started": "2023-12-04T11:27:49.709319Z"
    }
   },
   "outputs": [
    {
     "name": "stdout",
     "output_type": "stream",
     "text": [
      "313/313 [==============================] - 1s 1ms/step\n"
     ]
    },
    {
     "data": {
      "text/plain": [
       "array([[2.22288814e-04, 4.78752976e-04, 1.76923850e-03, 9.71804738e-01,\n",
       "        3.58010730e-04, 2.14593224e-02, 3.26587656e-03, 1.31102315e-05,\n",
       "        2.93052959e-04, 3.35638411e-04],\n",
       "       [8.85280722e-04, 4.21460858e-03, 2.29368688e-05, 1.93244865e-09,\n",
       "        1.00973864e-07, 5.13353415e-10, 3.14754089e-08, 9.46987933e-10,\n",
       "        9.94846344e-01, 3.07364171e-05],\n",
       "       [7.15266317e-02, 2.74328709e-01, 1.00054815e-02, 6.38132915e-02,\n",
       "        2.15555681e-03, 2.84525100e-03, 2.96066864e-03, 3.91206890e-03,\n",
       "        5.35426259e-01, 3.30260880e-02],\n",
       "       [9.40672934e-01, 3.27924034e-03, 1.93338608e-03, 3.95107527e-05,\n",
       "        2.55339523e-03, 8.42001464e-06, 7.78548128e-04, 1.41851764e-04,\n",
       "        5.05798683e-02, 1.28395277e-05],\n",
       "       [4.47815978e-07, 5.18266597e-06, 1.90295500e-03, 1.68829672e-02,\n",
       "        3.56171578e-01, 2.32779584e-03, 6.22707248e-01, 7.59558361e-07,\n",
       "        8.97606924e-07, 1.28668304e-07]], dtype=float32)"
      ]
     },
     "execution_count": 28,
     "metadata": {},
     "output_type": "execute_result"
    }
   ],
   "source": [
    "y_pred = model.predict(X_test)\n",
    "y_pred[:5]"
   ]
  },
  {
   "cell_type": "code",
   "execution_count": 30,
   "id": "5659c156-e407-45b4-99f9-bd2e6fb7e7d8",
   "metadata": {
    "execution": {
     "iopub.execute_input": "2023-12-04T11:29:02.534768Z",
     "iopub.status.busy": "2023-12-04T11:29:02.534101Z",
     "iopub.status.idle": "2023-12-04T11:29:02.555296Z",
     "shell.execute_reply": "2023-12-04T11:29:02.554732Z",
     "shell.execute_reply.started": "2023-12-04T11:29:02.534742Z"
    }
   },
   "outputs": [
    {
     "data": {
      "text/plain": [
       "[3, 8, 8, 0, 6]"
      ]
     },
     "execution_count": 30,
     "metadata": {},
     "output_type": "execute_result"
    }
   ],
   "source": [
    "#getting the predicted classes\n",
    "y_classes = [np.argmax(pred_class) for pred_class in y_pred]\n",
    "y_classes[:5]"
   ]
  },
  {
   "cell_type": "code",
   "execution_count": 31,
   "id": "64bb0cc0-c645-41a6-9aab-06fcd9cd4990",
   "metadata": {
    "execution": {
     "iopub.execute_input": "2023-12-04T11:29:18.980140Z",
     "iopub.status.busy": "2023-12-04T11:29:18.979357Z",
     "iopub.status.idle": "2023-12-04T11:29:18.985693Z",
     "shell.execute_reply": "2023-12-04T11:29:18.984861Z",
     "shell.execute_reply.started": "2023-12-04T11:29:18.980112Z"
    }
   },
   "outputs": [
    {
     "data": {
      "text/plain": [
       "array([3, 8, 8, 0, 6], dtype=uint8)"
      ]
     },
     "execution_count": 31,
     "metadata": {},
     "output_type": "execute_result"
    }
   ],
   "source": [
    "#check the classes\n",
    "y_test[:5]\n"
   ]
  },
  {
   "cell_type": "code",
   "execution_count": 33,
   "id": "26272b3b-9ef8-45f3-a7aa-e560b77dc150",
   "metadata": {
    "execution": {
     "iopub.execute_input": "2023-12-04T11:30:00.241460Z",
     "iopub.status.busy": "2023-12-04T11:30:00.240831Z",
     "iopub.status.idle": "2023-12-04T11:30:00.326061Z",
     "shell.execute_reply": "2023-12-04T11:30:00.325462Z",
     "shell.execute_reply.started": "2023-12-04T11:30:00.241435Z"
    }
   },
   "outputs": [
    {
     "data": {
      "image/png": "[encoded data removed]",
      "text/plain": [
       "<Figure size 1500x200 with 1 Axes>"
      ]
     },
     "metadata": {},
     "output_type": "display_data"
    }
   ],
   "source": [
    "image_show(X_test, y_test,5)\n"
   ]
  },
  {
   "cell_type": "code",
   "execution_count": 35,
   "id": "12c4a33a-1485-4e7c-9f49-88ae6b240675",
   "metadata": {
    "execution": {
     "iopub.execute_input": "2023-12-04T11:31:11.322973Z",
     "iopub.status.busy": "2023-12-04T11:31:11.322295Z",
     "iopub.status.idle": "2023-12-04T11:31:11.327998Z",
     "shell.execute_reply": "2023-12-04T11:31:11.327020Z",
     "shell.execute_reply.started": "2023-12-04T11:31:11.322945Z"
    }
   },
   "outputs": [
    {
     "data": {
      "text/plain": [
       "'frog'"
      ]
     },
     "execution_count": 35,
     "metadata": {},
     "output_type": "execute_result"
    }
   ],
   "source": [
    "classes[y_classes[5]]\n"
   ]
  },
  {
   "cell_type": "code",
   "execution_count": 38,
   "id": "757b06fb-ce24-4a6d-b6ff-07936dfef914",
   "metadata": {
    "execution": {
     "iopub.execute_input": "2023-12-04T11:31:38.240441Z",
     "iopub.status.busy": "2023-12-04T11:31:38.239847Z",
     "iopub.status.idle": "2023-12-04T11:31:38.312358Z",
     "shell.execute_reply": "2023-12-04T11:31:38.311685Z",
     "shell.execute_reply.started": "2023-12-04T11:31:38.240416Z"
    }
   },
   "outputs": [
    {
     "data": {
      "image/png": "[encoded data removed]",
      "text/plain": [
       "<Figure size 1500x200 with 1 Axes>"
      ]
     },
     "metadata": {},
     "output_type": "display_data"
    }
   ],
   "source": [
    "image_show(X_test, y_test,2)\n"
   ]
  },
  {
   "cell_type": "code",
   "execution_count": 39,
   "id": "708824cd-a5d5-4548-bb22-2adf3b46f4ef",
   "metadata": {
    "execution": {
     "iopub.execute_input": "2023-12-04T11:31:43.031527Z",
     "iopub.status.busy": "2023-12-04T11:31:43.031174Z",
     "iopub.status.idle": "2023-12-04T11:31:43.037327Z",
     "shell.execute_reply": "2023-12-04T11:31:43.036332Z",
     "shell.execute_reply.started": "2023-12-04T11:31:43.031500Z"
    }
   },
   "outputs": [
    {
     "data": {
      "text/plain": [
       "'ship'"
      ]
     },
     "execution_count": 39,
     "metadata": {},
     "output_type": "execute_result"
    }
   ],
   "source": [
    "classes[y_classes[2]]\n"
   ]
  },
  {
   "cell_type": "markdown",
   "id": "f2160655-cd6a-473c-bafa-400c77ce18d2",
   "metadata": {},
   "source": [
    "#### As we can see our model is quite accurate in predicting the classes"
   ]
  }
 ],
 "metadata": {
  "kernelspec": {
   "display_name": "Python 3 (ipykernel)",
   "language": "python",
   "name": "python3"
  },
  "language_info": {
   "codemirror_mode": {
    "name": "ipython",
    "version": 3
   },
   "file_extension": ".py",
   "mimetype": "text/x-python",
   "name": "python",
   "nbconvert_exporter": "python",
   "pygments_lexer": "ipython3",
   "version": "3.9.16"
  }
 },
 "nbformat": 4,
 "nbformat_minor": 5
}
